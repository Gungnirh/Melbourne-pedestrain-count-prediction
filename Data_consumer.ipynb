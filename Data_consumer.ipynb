{
 "cells": [
  {
   "cell_type": "code",
   "execution_count": null,
   "metadata": {},
   "outputs": [],
   "source": [
    "# import statements\n",
    "from time import sleep\n",
    "from kafka import KafkaConsumer\n",
    "import datetime as dt\n",
    "import re\n",
    "import folium\n",
    "from IPython.display import clear_output\n",
    "\n",
    "# The method is to get consumer from kafka\n",
    "def connect_consumer(topic):\n",
    "    _consumer = None\n",
    "    try:\n",
    "         _consumer = KafkaConsumer(topic,\n",
    "                                   consumer_timeout_ms=20000, \n",
    "                                   bootstrap_servers=['127.0.0.1:9092'],\n",
    "                                   api_version=(0, 10))\n",
    "    except Exception as ex:\n",
    "        print(str(ex))\n",
    "    finally:\n",
    "        return _consumer"
   ]
  },
  {
   "cell_type": "code",
   "execution_count": null,
   "metadata": {
    "collapsed": true
   },
   "outputs": [],
   "source": [
    "# The topic name is used to get data from kafka\n",
    "topic = 'sensor_loc'\n",
    "\n",
    "# Get consumer\n",
    "consumer = connect_consumer(topic)\n",
    "# Use folium draw Melbourne Map\n",
    "m = folium.Map(location=[-37.814, 144.966], control_scale=True, zoom_start=15)\n",
    "# Sensor list is to store exceed 2000 sensor information\n",
    "sensor = []\n",
    "# dic is to store key and sensor information. Key is each day. The first  is '2020-12-01'\n",
    "dic = {'2020-12-01':sensor}\n",
    "# pre_date to store the pre_date\n",
    "pre_date = '2020-12-01'\n",
    "\n",
    "for message in consumer:\n",
    "    # Decode message key and value\n",
    "    key = message.key.decode('utf-8')\n",
    "    data = message.value.decode('utf-8')\n",
    "    # Use re to split value and get data\n",
    "    data = re.split('[,:]+',data)\n",
    "    sensor_id = data[1]\n",
    "    date = data[3]\n",
    "    lat = data[5]\n",
    "    long = data[7].split('}')[0]\n",
    "    # This if statement is to judge if the date is new date. If it is new date, print the previous day map.\n",
    "    if date not in dic.keys():\n",
    "        # Store the pre_date all sensor information\n",
    "        dic[pre_date] = sensor\n",
    "        # Display the map date and number of sensor\n",
    "        print('Date:  '+ str(pre_date))\n",
    "        print('Number of next day Sensor prediction exceed 2000:' + str(len(sensor)))\n",
    "        # Add the sensor in the map.\n",
    "        for x in sensor:\n",
    "            folium.Marker(\n",
    "                location=[x['lat'], x['long']],\n",
    "                popup=\"ID: \" +x['sensor_id'] +\"\\n\" +\"Date: \"+ pre_date\n",
    "            ).add_to(m)\n",
    "        # display map\n",
    "        display(m)\n",
    "        # clear_output\n",
    "        clear_output(wait=True)\n",
    "        # Change the pre_date\n",
    "        pre_date = date\n",
    "        # Create a new map, add the date in dic.keys and empty the sensor list.\n",
    "        m = folium.Map(location=[-37.814, 144.966], control_scale=True, zoom_start=15)\n",
    "        dic[date] = []\n",
    "        sensor = []\n",
    "    else:\n",
    "        # If the date is exist, just add the information\n",
    "        sensor.append({'sensor_id':sensor_id, 'lat': lat, 'long': long})"
   ]
  }
 ],
 "metadata": {
  "kernelspec": {
   "display_name": "Python 3",
   "language": "python",
   "name": "python3"
  },
  "language_info": {
   "codemirror_mode": {
    "name": "ipython",
    "version": 3
   },
   "file_extension": ".py",
   "mimetype": "text/x-python",
   "name": "python",
   "nbconvert_exporter": "python",
   "pygments_lexer": "ipython3",
   "version": "3.8.2"
  }
 },
 "nbformat": 4,
 "nbformat_minor": 4
}
