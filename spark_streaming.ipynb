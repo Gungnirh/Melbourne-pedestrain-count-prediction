{
 "cells": [
  {
   "cell_type": "markdown",
   "metadata": {},
   "source": [
    "## Task 2. Streaming application using Spark Structured Streaming"
   ]
  },
  {
   "cell_type": "markdown",
   "metadata": {},
   "source": [
    "## 2.1"
   ]
  },
  {
   "cell_type": "code",
   "execution_count": null,
   "metadata": {},
   "outputs": [],
   "source": [
    "# import libary\n",
    "import os\n",
    "os.environ['PYSPARK_SUBMIT_ARGS'] = '--packages org.apache.spark:spark-streaming-kafka-0-10_2.12:3.0.0,org.apache.spark:spark-sql-kafka-0-10_2.12:3.0.0 pyspark-shell'\n",
    "from pyspark import SparkConf\n",
    "from pyspark.sql import SparkSession\n",
    "from pyspark.sql.functions import col, decode, expr,lit,udf\n",
    "from pyspark.sql import functions as F\n",
    "from pyspark.sql.types import *\n",
    "from pyspark.ml import PipelineModel\n",
    "import pandas as pd\n",
    "\n",
    "\n",
    "# Spark\n",
    "conf = SparkConf().setAppName(\"Streaming application\").setMaster(\"local[*]\").set(\"spark.sql.session.timeZone\", \"UTC\")\n",
    "spark = SparkSession.builder.config(conf = conf).getOrCreate()"
   ]
  },
  {
   "cell_type": "markdown",
   "metadata": {},
   "source": [
    "## 2.2"
   ]
  },
  {
   "cell_type": "code",
   "execution_count": null,
   "metadata": {},
   "outputs": [],
   "source": [
    "# Define the data schema for sensor location CSV file.\n",
    "sensor_schema = StructType([StructField(\"sensor_id\", IntegerType(),True),\n",
    "                          StructField(\"sensor_description\", StringType(),True),\n",
    "                          StructField(\"sensor_name\", StringType(),True),\n",
    "                          StructField(\"installation_date\", DateType(),True),\n",
    "                          StructField(\"status\", StringType(),True),\n",
    "                          StructField(\"note\", StringType(),True),  \n",
    "                          StructField(\"direction_1\", StringType(),True),\n",
    "                          StructField(\"direction_2\", StringType(),True),\n",
    "                          StructField(\"latitude\", FloatType(),True),\n",
    "                          StructField(\"longitude\", FloatType(),True),\n",
    "                          StructField(\"location\", StringType(),True)\n",
    "                          ])\n",
    "\n",
    "\n",
    "# Load CSV file into dataframe\n",
    "df_sensor = spark.read.csv('Pedestrian_Counting_System_-_Sensor_Locations.csv',dateFormat ='yyyy/MM/dd',schema = sensor_schema,header=True)"
   ]
  },
  {
   "cell_type": "markdown",
   "metadata": {},
   "source": [
    "## 2.3"
   ]
  },
  {
   "cell_type": "code",
   "execution_count": null,
   "metadata": {},
   "outputs": [],
   "source": [
    "# Get the streaming data\n",
    "topic = \"December_count\"\n",
    "df_count = spark \\\n",
    "    .readStream \\\n",
    "    .format(\"kafka\") \\\n",
    "    .option(\"kafka.bootstrap.servers\", \"127.0.0.1:9092\") \\\n",
    "    .option(\"subscribe\", topic) \\\n",
    "    .load()\n",
    "\n",
    "# Cast data in string type\n",
    "raw_data = df_count.selectExpr(\"CAST(value AS STRING)\")\n",
    "\n",
    "# Define the raw_schema\n",
    "raw_schema = StructType([StructField(\"ID\", StringType(),True),\n",
    "                          StructField(\"Date_Time\", StringType(),True),\n",
    "                          StructField(\"Year\", StringType(),True),\n",
    "                          StructField(\"Month\", StringType(),True),\n",
    "                          StructField(\"Mdate\", StringType(),True),\n",
    "                          StructField(\"Day\", StringType(),True),  \n",
    "                          StructField(\"Time\", StringType(),True),\n",
    "                          StructField(\"Sensor_ID\", StringType(),True),\n",
    "                          StructField(\"Sensor_Name\", StringType(),True),\n",
    "                          StructField(\"Hourly_Counts\", StringType(),True)\n",
    "                          ])\n",
    "\n",
    "# Get the raw data\n",
    "df = raw_data.select(F.from_json(F.col('value').cast('string'), raw_schema).alias('value'))\n",
    "\n",
    "# Change the column name\n",
    "df = df.select(\n",
    "            F.col('value.ID').alias('ID'),\n",
    "            F.col('value.Date_Time').alias('Date_Time'),\n",
    "            F.col('value.Year').alias('Year'),\n",
    "            F.col('value.Month').alias('Month'),\n",
    "            F.col('value.Mdate').alias('Mdate'),\n",
    "            F.col('value.Day').alias('Day'),\n",
    "            F.col('value.Time').alias('Time'),\n",
    "            F.col('value.Sensor_ID').alias('Sensor_ID'),\n",
    "            F.col('value.Sensor_Name').alias('Sensor_Name'),\n",
    "            F.col('value.Hourly_Counts').alias('Hourly_Counts'),\n",
    "            )  "
   ]
  },
  {
   "cell_type": "markdown",
   "metadata": {},
   "source": [
    "## 2.4"
   ]
  },
  {
   "cell_type": "code",
   "execution_count": null,
   "metadata": {},
   "outputs": [],
   "source": [
    "# Persist the raw streaming data in parquet format\n",
    "counts_parquet = df \\\n",
    "    .writeStream\\\n",
    "    .format(\"parquet\") \\\n",
    "    .option(\"path\", \"parquet/counts_parquet\")\\\n",
    "    .option(\"checkpointLocation\", \"parquet/clickstream_df/checkpoint\")\\\n",
    "    .start()"
   ]
  },
  {
   "cell_type": "markdown",
   "metadata": {},
   "source": [
    "## 2.5"
   ]
  },
  {
   "cell_type": "code",
   "execution_count": null,
   "metadata": {},
   "outputs": [],
   "source": [
    "# Transformed data into the proper formats\n",
    "df = df.withColumn('ID',F.col('ID').cast(IntegerType()))\\\n",
    "    .withColumn('Date_Time',F.to_timestamp('Date_Time', 'MM/dd/yyyy hh:mm:ss a'))\\\n",
    "    .withColumn('Year',F.col('Year').cast(IntegerType()))\\\n",
    "    .withColumn('Mdate',F.col('Mdate').cast(IntegerType()))\\\n",
    "    .withColumn('Time',F.col('Time').cast(IntegerType()))\\\n",
    "    .withColumn('Sensor_ID',F.col('Sensor_ID').cast(IntegerType()))\\\n",
    "    .withColumn('Hourly_Counts',F.col('Hourly_Counts').cast(IntegerType()))"
   ]
  },
  {
   "cell_type": "markdown",
   "metadata": {},
   "source": [
    "## 2.6"
   ]
  },
  {
   "cell_type": "code",
   "execution_count": null,
   "metadata": {},
   "outputs": [],
   "source": [
    "# Filter data count between 9am-11:59pm\n",
    "df = df.filter((df['Time']>= 9) & (df['Time']<=11))"
   ]
  },
  {
   "cell_type": "code",
   "execution_count": null,
   "metadata": {},
   "outputs": [],
   "source": [
    "# Create 'next_date','next_Mdate','next_day_week' and 'next_day_of_week' columns\n",
    "# For next_day_of_week, because the monday is first day of week and dayofweek() function based on sunday is first day of week. \n",
    "# So I sub one day in next_date in order to get correct next_day_of_week\n",
    "\n",
    "df = df.withColumn('next_date',F.date_add(F.to_date(F.col('Date_Time')),1))\\\n",
    "    .withColumn('next_Mdate', F.dayofmonth(F.col('next_date')))\\\n",
    "    .withColumn('next_day_week', F.weekofyear(F.col('next_date')))\\\n",
    "    .withColumn('next_day_of_week', F.dayofweek(F.date_sub(F.col('next_date'),1)))\\\n",
    "    .withColumnRenamed('Hourly_Counts', 'prev_count')"
   ]
  },
  {
   "cell_type": "markdown",
   "metadata": {},
   "source": [
    "## 2.7"
   ]
  },
  {
   "cell_type": "code",
   "execution_count": null,
   "metadata": {},
   "outputs": [],
   "source": [
    "# Load the pipeline\n",
    "pipelineModel = PipelineModel.load('count_estimation_pipeline_model')"
   ]
  },
  {
   "cell_type": "code",
   "execution_count": null,
   "metadata": {},
   "outputs": [],
   "source": [
    "# Use pipeline model to transform df\n",
    "df_pred = pipelineModel.transform(df)"
   ]
  },
  {
   "cell_type": "code",
   "execution_count": null,
   "metadata": {},
   "outputs": [],
   "source": [
    "# Persist the prediction result in parquet format\n",
    "pred_parquet = df_pred \\\n",
    "    .writeStream\\\n",
    "    .format(\"parquet\") \\\n",
    "    .option(\"path\", \"parquet/pred_parquet\")\\\n",
    "    .option(\"checkpointLocation\", \"parquet/clickstream_df/checkpoint\")\\\n",
    "    .start()"
   ]
  },
  {
   "cell_type": "markdown",
   "metadata": {},
   "source": [
    "## 2.8"
   ]
  },
  {
   "cell_type": "code",
   "execution_count": null,
   "metadata": {},
   "outputs": [],
   "source": [
    "# task a\n",
    "\n",
    "# Filter the prediction more than 2000\n",
    "df_exceed = df_pred.filter(df_pred['prediction'] > 2000)\n",
    "\n",
    "# Use 1 day window and group yb sensor_ID to get a df including sensor_id, date and count.\n",
    "df_exceed = df_exceed\\\n",
    "        .groupBy('Sensor_ID',F.window('Date_Time','1 day'))\\\n",
    "        .count()\\\n",
    "        .select('Sensor_ID',F.to_date(F.col('window').start).alias('Date') , 'count')"
   ]
  },
  {
   "cell_type": "code",
   "execution_count": null,
   "metadata": {},
   "outputs": [],
   "source": [
    "# Use writeStrea to store df in memory format.\n",
    "query_1 = df_exceed \\\n",
    "    .writeStream \\\n",
    "    .outputMode(\"complete\") \\\n",
    "    .format(\"memory\") \\\n",
    "    .queryName(\"exceed_hours_num\") \\\n",
    "    .trigger(processingTime='5 seconds') \\\n",
    "    .start()"
   ]
  },
  {
   "cell_type": "code",
   "execution_count": null,
   "metadata": {},
   "outputs": [],
   "source": [
    "# use sql to display the result\n",
    "spark.sql(\"select * from exceed_hours_num order by Date\").show()"
   ]
  },
  {
   "attachments": {
    "image.png": {
     "image/png": "[encoded data removed]"
    }
   },
   "cell_type": "markdown",
   "metadata": {},
   "source": [
    "This is the first 20 rows in exceed_hours_num\n",
    "![image.png](attachment:image.png)"
   ]
  },
  {
   "cell_type": "code",
   "execution_count": null,
   "metadata": {},
   "outputs": [],
   "source": [
    "query_1.stop()"
   ]
  },
  {
   "cell_type": "code",
   "execution_count": null,
   "metadata": {},
   "outputs": [],
   "source": [
    "# task b\n",
    "\n",
    "# Join the df_exceed and df_sensor to get each sensor that prediction exceed 2000 location information.\n",
    "df_map = df_exceed.join(df_sensor, on = 'Sensor_ID', how ='inner')\\\n",
    "    .select('Sensor_ID','Date','latitude','longitude')"
   ]
  },
  {
   "cell_type": "code",
   "execution_count": null,
   "metadata": {},
   "outputs": [],
   "source": [
    "# Convet date column to key and other column as value.\n",
    "df_final = df_map.withColumn('value',F.to_json(F.struct(df_map.columns)))\\\n",
    "    .withColumn('key', F.col('Date'))\\\n",
    "    .select(F.col('key').cast('String'),'value')"
   ]
  },
  {
   "cell_type": "code",
   "execution_count": null,
   "metadata": {},
   "outputs": [],
   "source": [
    "# Stream back to kafka using sensor_loc topic name\n",
    "kafka_sink = df_final\\\n",
    "    .writeStream\\\n",
    "    .format('kafka')\\\n",
    "    .outputMode('update')\\\n",
    "    .option('kafka.bootstrap.servers', '127.0.0.1:9092')\\\n",
    "    .option('topic','sensor_loc')\\\n",
    "    .option('checkpointLocation','kafka/checkpoint')\\\n",
    "    .trigger(processingTime = '5 seconds')\\\n",
    "    .start()"
   ]
  }
 ],
 "metadata": {
  "kernelspec": {
   "display_name": "Python 3",
   "language": "python",
   "name": "python3"
  },
  "language_info": {
   "codemirror_mode": {
    "name": "ipython",
    "version": 3
   },
   "file_extension": ".py",
   "mimetype": "text/x-python",
   "name": "python",
   "nbconvert_exporter": "python",
   "pygments_lexer": "ipython3",
   "version": "3.8.2"
  }
 },
 "nbformat": 4,
 "nbformat_minor": 4
}
