{
 "cells": [
  {
   "cell_type": "markdown",
   "metadata": {},
   "source": [
    "# Task 1. Producing the data"
   ]
  },
  {
   "cell_type": "code",
   "execution_count": null,
   "metadata": {},
   "outputs": [],
   "source": [
    "# import library\n",
    "from time import sleep\n",
    "from json import dumps\n",
    "from kafka import KafkaProducer\n",
    "import datetime as dt\n",
    "import pandas as pd"
   ]
  },
  {
   "cell_type": "code",
   "execution_count": null,
   "metadata": {},
   "outputs": [],
   "source": [
    "def publish_message(producer_instance, topic_name, data):\n",
    "    try:\n",
    "        # Send the data to kafka\n",
    "        producer_instance.send(topic_name, data)\n",
    "        # Display the data\n",
    "        print('Message published successfully. Data: ' + str(data))\n",
    "    except Exception as ex:\n",
    "        print('Exception in publishing message.')\n",
    "        print(str(ex))\n",
    "        \n",
    "def connect_kafka_producer():\n",
    "    _producer = None\n",
    "    try:\n",
    "        # create producer\n",
    "        _producer = KafkaProducer(bootstrap_servers=['localhost:9092'],\n",
    "                                  value_serializer=lambda x: dumps(x).encode('ascii'),\n",
    "                                  api_version=(0, 10))\n",
    "    except Exception as ex:\n",
    "        print('Exception while connecting Kafka.')\n",
    "        print(str(ex))\n",
    "    finally:\n",
    "        return _producer\n",
    "\n",
    "\n",
    "\n",
    "if __name__ == '__main__':\n",
    "    # Identify the topic name\n",
    "    topic = 'December_count'\n",
    "    # Create a producer\n",
    "    producer = connect_kafka_producer()\n",
    "    # Read the csv to pandas df\n",
    "    df = pd.read_csv('Streaming_Pedestrian_December_counts_per_hour.csv')\n",
    "    while True:\n",
    "        # The for loop is to find each day row.\n",
    "        for x in range(1,32):\n",
    "            # day is a list to store rows in each day\n",
    "            day = df[(df['Mdate'] == x)]\n",
    "            for y in range(day.shape[0]):\n",
    "                # Use dictionary to store each row data\n",
    "                data = {'ID':str(day.iloc[y,0]),'Date_Time':str(day.iloc[y,1]),'Year':str(day.iloc[y,2]),'Month':str(day.iloc[y,3]),'Mdate':str(day.iloc[y,4]), 'Day':str(day.iloc[y,5]),'Time':str(day.iloc[y,6]),'Sensor_ID':str(day.iloc[y,7]),'Sensor_Name':str(day.iloc[y,8]),'Hourly_Counts':str(day.iloc[y,9])}\n",
    "                publish_message(producer, topic, data)\n",
    "            sleep(5)\n",
    "        break"
   ]
  }
 ],
 "metadata": {
  "kernelspec": {
   "display_name": "Python 3",
   "language": "python",
   "name": "python3"
  },
  "language_info": {
   "codemirror_mode": {
    "name": "ipython",
    "version": 3
   },
   "file_extension": ".py",
   "mimetype": "text/x-python",
   "name": "python",
   "nbconvert_exporter": "python",
   "pygments_lexer": "ipython3",
   "version": "3.8.2"
  }
 },
 "nbformat": 4,
 "nbformat_minor": 4
}
